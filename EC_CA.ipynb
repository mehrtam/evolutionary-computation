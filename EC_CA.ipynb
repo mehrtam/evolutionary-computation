{
  "nbformat": 4,
  "nbformat_minor": 0,
  "metadata": {
    "colab": {
      "provenance": []
    },
    "kernelspec": {
      "name": "python3",
      "display_name": "Python 3"
    },
    "language_info": {
      "name": "python"
    }
  },
  "cells": [
    {
      "cell_type": "markdown",
      "source": [
        "##**Downloading Dataset**"
      ],
      "metadata": {
        "id": "DgaDKILNemGU"
      }
    },
    {
      "cell_type": "code",
      "execution_count": null,
      "metadata": {
        "colab": {
          "base_uri": "https://localhost:8080/"
        },
        "id": "Fz0GoExiqA1a",
        "outputId": "0ef7d9bc-c5a3-44c0-f101-b1a069aadac6"
      },
      "outputs": [
        {
          "output_type": "stream",
          "name": "stdout",
          "text": [
            "Total Flights: 17\n",
            "Total Pairings: 197\n",
            "First 5 Pairings: [[2259, 5, 1, 3, 4, 8, 10], [3309, 4, 1, 3, 4, 11], [4497, 3, 1, 3, 4], [4965, 4, 1, 4, 9, 11], [5961, 3, 1, 4, 9]]\n"
          ]
        }
      ],
      "source": [
        "import requests\n",
        "\n",
        "def read_dataset_from_url(url):\n",
        "    response = requests.get(url)\n",
        "\n",
        "    # Ensure request was successful\n",
        "    if response.status_code != 200:\n",
        "        raise Exception(f\"Failed to download file: {response.status_code}\")\n",
        "\n",
        "    lines = response.text.strip().split(\"\\n\")  # Split text by lines\n",
        "\n",
        "    # Read first line: total flights (N) and total pairings (M)\n",
        "    flight_count, pairing_count = map(int, lines[0].split())\n",
        "\n",
        "    # Read crew pairings\n",
        "    pairings = []\n",
        "    for line in lines[1:]:  # Skip first line\n",
        "        data = list(map(int, line.split()))\n",
        "        cost = data[0]   # First number is cost\n",
        "        flights = data[2:]  # Flights covered (skip second number)\n",
        "        pairings.append([cost, len(flights)] + flights)  # Store in list format\n",
        "\n",
        "    return flight_count, pairing_count, pairings\n",
        "\n",
        "# Example usage\n",
        "url = \"https://people.brunel.ac.uk/~mastjjb/jeb/orlib/files/sppnw41.txt\"\n",
        "flight_count, pairing_count, pairings = read_dataset_from_url(url)\n",
        "\n",
        "# Print parsed data\n",
        "print(\"Total Flights:\", flight_count)\n",
        "print(\"Total Pairings:\", pairing_count)\n",
        "print(\"First 5 Pairings:\", pairings[:5])  # Display first 5 pairings\n"
      ]
    },
    {
      "cell_type": "markdown",
      "source": [
        "##**Simulated Annealing(SA)**"
      ],
      "metadata": {
        "id": "9as8XmRTewyV"
      }
    },
    {
      "cell_type": "code",
      "source": [
        "import numpy as np\n",
        "\n",
        "# Compute the cost function with penalty for uncovered flights\n",
        "def compute_cost(solution, pairings, flight_count, penalty=10000):\n",
        "    total_cost = 0\n",
        "    covered_flights = set()\n",
        "\n",
        "    for i in range(len(solution)):\n",
        "        if solution[i] == 1:  # If pairing is selected\n",
        "            total_cost += pairings[i][0]  # Add pairing cost\n",
        "            covered_flights.update(pairings[i][2:])  # Add covered flights\n",
        "\n",
        "    # Apply penalty if not all flights are covered\n",
        "    missing_flights = flight_count - len(covered_flights)\n",
        "    if missing_flights > 0:\n",
        "        total_cost += penalty * missing_flights  # Large penalty for missing flights\n",
        "\n",
        "    return total_cost\n",
        "\n",
        "# Generate a neighboring solution while ensuring feasibility\n",
        "def get_neighbor_greedy(solution, pairings, flight_count):\n",
        "    \"\"\"\n",
        "    Generates a neighboring solution using a greedy set cover approach.\n",
        "\n",
        "    :param solution: Binary vector of the current solution\n",
        "    :param pairings: List of crew pairings\n",
        "    :param flight_count: Total number of flights\n",
        "    :return: A feasible neighboring solution\n",
        "    \"\"\"\n",
        "    neighbor = solution.copy()\n",
        "\n",
        "    # Find covered flights before modification\n",
        "    covered_flights = set()\n",
        "    for i in range(len(neighbor)):\n",
        "        if neighbor[i] == 1:\n",
        "            covered_flights.update(pairings[i][2:])\n",
        "\n",
        "    # Step 1: Randomly remove a pairing\n",
        "    selected_indices = [i for i, val in enumerate(neighbor) if val == 1]\n",
        "    if not selected_indices:\n",
        "        return neighbor  # Avoid empty solutions\n",
        "\n",
        "    remove_idx = np.random.choice(selected_indices)  # Pick a random pairing to remove\n",
        "    neighbor[remove_idx] = 0\n",
        "\n",
        "    # Step 2: Check missing flights\n",
        "    new_covered_flights = set()\n",
        "    for i in range(len(neighbor)):\n",
        "        if neighbor[i] == 1:\n",
        "            new_covered_flights.update(pairings[i][2:])\n",
        "\n",
        "    missing_flights = covered_flights - new_covered_flights\n",
        "\n",
        "    # Step 3: Greedily select the best replacement pairing\n",
        "    if missing_flights:\n",
        "        best_replacement = None\n",
        "        best_effectiveness = float('inf')\n",
        "\n",
        "        for j in range(len(pairings)):\n",
        "            if neighbor[j] == 0:  # Only consider unused pairings\n",
        "                coverage = set(pairings[j][2:]) & missing_flights\n",
        "                if coverage:\n",
        "                    cost_effectiveness = pairings[j][0] / len(coverage)  # Greedy ratio\n",
        "                    if cost_effectiveness < best_effectiveness:\n",
        "                        best_replacement = j\n",
        "                        best_effectiveness = cost_effectiveness\n",
        "\n",
        "        if best_replacement is not None:\n",
        "            neighbor[best_replacement] = 1  # Add best replacement pairing\n",
        "\n",
        "    return neighbor\n",
        "\n",
        "\n",
        "# Simulated Annealing Algorithm\n",
        "def simulated_annealing(pairings, flight_count, initial_temp=1000, cooling_rate=0.99, min_temp=1e-3, max_iter=10000):\n",
        "    M = len(pairings)  # Number of available pairings\n",
        "    solution = np.random.choice([0, 1], size=M)  # Random initial solution\n",
        "    current_cost = compute_cost(solution, pairings, flight_count)\n",
        "    T = initial_temp\n",
        "\n",
        "    for i in range(max_iter):\n",
        "        neighbor = get_neighbor_greedy(solution, pairings, flight_count)\n",
        "        neighbor_cost = compute_cost(neighbor, pairings, flight_count)\n",
        "\n",
        "        delta_E = neighbor_cost - current_cost\n",
        "\n",
        "        if delta_E < 0 or np.random.rand() < np.exp(-delta_E / T):\n",
        "            solution, current_cost = neighbor, neighbor_cost\n",
        "\n",
        "        T *= cooling_rate  # Reduce temperature\n",
        "\n",
        "        if T < min_temp:\n",
        "            break\n",
        "\n",
        "    return solution, current_cost"
      ],
      "metadata": {
        "id": "ZmtpfUOG5JCD"
      },
      "execution_count": null,
      "outputs": []
    },
    {
      "cell_type": "code",
      "source": [
        "# Run Simulated Annealing with flight costs included\n",
        "solution, current_cost = simulated_annealing(pairings, flight_count)\n",
        "\n",
        "print(\"Best Solution (Selected Pairings):\", solution)\n",
        "print(\"Best Cost (Including Flights):\", current_cost)"
      ],
      "metadata": {
        "colab": {
          "base_uri": "https://localhost:8080/"
        },
        "id": "zWKO-31SEiLT",
        "outputId": "2d706bf3-851b-4158-f51b-49c67125efd3"
      },
      "execution_count": null,
      "outputs": [
        {
          "output_type": "stream",
          "name": "stdout",
          "text": [
            "Best Solution (Selected Pairings): [0 0 0 0 1 0 0 0 0 0 0 0 0 0 0 0 0 1 0 0 0 0 1 0 0 0 0 0 0 0 0 0 0 0 0 0 0\n",
            " 0 0 0 0 0 0 0 0 0 0 0 0 0 0 0 0 0 0 0 0 0 0 1 0 0 0 0 0 0 0 0 0 0 0 0 0 0\n",
            " 0 0 0 0 0 0 0 0 0 0 0 0 0 0 0 0 1 0 0 0 0 0 0 0 0 0 0 0 0 0 0 0 0 0 0 1 0\n",
            " 0 0 0 0 0 0 0 0 0 0 0 0 0 0 0 0 0 0 0 0 0 0 0 0 0 0 0 0 0 0 0 0 0 0 0 0 0\n",
            " 0 0 0 0 0 0 0 0 0 0 0 0 0 0 0 0 0 0 0 0 0 0 0 0 0 0 0 0 0 0 0 0 0 0 0 0 0\n",
            " 0 0 0 0 0 0 0 0 0 0 0 0]\n",
            "Best Cost (Including Flights): 31497\n"
          ]
        }
      ]
    },
    {
      "cell_type": "code",
      "source": [
        "x = set()   #Check if all flights have been covered\n",
        "for i in range(len(solution)):\n",
        "    if solution[i] == 1:\n",
        "        print(pairings[i][2:])\n",
        "        x.update(pairings[i][2:])\n",
        "\n",
        "if len(x) == flight_count:\n",
        "  print(\"------------------------------\")\n",
        "  print(\"all flights have been covered\")\n",
        "\n"
      ],
      "metadata": {
        "colab": {
          "base_uri": "https://localhost:8080/"
        },
        "id": "8si6pkRU5Pdo",
        "outputId": "a92af1b6-763e-48a9-85e2-428684faffed"
      },
      "execution_count": null,
      "outputs": [
        {
          "output_type": "stream",
          "name": "stdout",
          "text": [
            "[1, 3, 4, 8, 10]\n",
            "[2, 7, 11]\n",
            "[5, 16, 17]\n",
            "[6]\n",
            "[9, 13, 14, 17]\n",
            "[12, 14, 16]\n",
            "[14, 15]\n",
            "------------------------------\n",
            "all flights have been covered\n"
          ]
        }
      ]
    },
    {
      "cell_type": "markdown",
      "source": [
        "# Check if all flights have been covered"
      ],
      "metadata": {
        "id": "x5pxsYMFe-_V"
      }
    },
    {
      "cell_type": "code",
      "source": [
        "import numpy as np\n",
        "\n",
        "# Compute cost function\n",
        "def compute_cost(solution, pairings, flight_count, penalty=10000):\n",
        "    total_cost = 0\n",
        "    covered_flights = set()\n",
        "\n",
        "    for i in range(len(solution)):\n",
        "        if solution[i] == 1:\n",
        "            total_cost += pairings[i][0]  # Add pairing cost\n",
        "            covered_flights.update(pairings[i][2:])  # Add covered flights\n",
        "\n",
        "    missing_flights = flight_count - len(covered_flights)\n",
        "    if missing_flights > 0:\n",
        "        total_cost += penalty * missing_flights  # Large penalty for missing flights\n",
        "\n",
        "    return total_cost\n",
        "\n",
        "# Generate a neighboring solution\n",
        "def get_neighbor(solution):\n",
        "    neighbor = solution.copy()\n",
        "    idx = np.random.randint(len(solution))\n",
        "    neighbor[idx] = 1 - neighbor[idx]  # Flip 0 ↔ 1\n",
        "    return neighbor\n",
        "\n",
        "# Simulated Annealing Algorithm\n",
        "def simulated_annealing(pairings, flight_count, initial_temp=1000, cooling_rate=0.99, min_temp=1e-3, max_iter=1000):\n",
        "    M = len(pairings)\n",
        "    solution = np.random.choice([0, 1], size=M)\n",
        "    current_cost = compute_cost(solution, pairings, flight_count)\n",
        "    T = initial_temp\n",
        "\n",
        "    for i in range(max_iter):\n",
        "        neighbor = get_neighbor(solution)\n",
        "        neighbor_cost = compute_cost(neighbor, pairings, flight_count)\n",
        "\n",
        "        delta_E = neighbor_cost - current_cost\n",
        "\n",
        "        if delta_E < 0 or np.random.rand() < np.exp(-delta_E / T):\n",
        "            solution, current_cost = neighbor, neighbor_cost\n",
        "\n",
        "        T *= cooling_rate  # Reduce temperature\n",
        "\n",
        "        if T < min_temp:\n",
        "            break\n",
        "\n",
        "    return solution, current_cost\n",
        "\n",
        "# Run SA\n",
        "best_solution, best_cost = simulated_annealing(pairings, flight_count)\n",
        "print(\"Best Solution (Selected Pairings):\", best_solution)\n",
        "print(\"Best Cost:\", best_cost)\n"
      ],
      "metadata": {
        "id": "sFHJfdVL5PXN",
        "colab": {
          "base_uri": "https://localhost:8080/"
        },
        "outputId": "23b07b21-395c-4859-9527-919b597e069c"
      },
      "execution_count": null,
      "outputs": [
        {
          "output_type": "stream",
          "name": "stdout",
          "text": [
            "Best Solution (Selected Pairings): [0 0 0 1 0 0 0 0 0 1 0 0 0 0 0 0 0 0 0 0 1 0 0 0 0 0 0 0 0 0 0 0 0 0 0 0 0\n",
            " 0 0 0 0 0 0 0 0 0 0 0 0 0 0 0 0 0 0 0 0 0 0 0 0 0 0 0 0 0 0 0 0 0 0 0 0 0\n",
            " 0 0 0 0 0 0 0 0 0 0 0 0 0 0 0 0 0 0 0 0 0 0 1 0 0 0 0 0 0 0 0 0 0 0 0 0 0\n",
            " 0 0 0 0 0 0 1 0 0 0 0 0 0 0 0 0 0 0 0 0 0 0 0 0 0 0 0 0 0 0 0 0 0 0 0 0 0\n",
            " 0 0 0 0 0 0 0 0 0 0 0 0 0 0 0 0 0 0 0 0 0 0 0 0 0 0 0 0 0 0 0 0 0 0 0 0 0\n",
            " 0 0 0 0 0 0 0 0 0 0 0 0]\n",
            "Best Cost: 25983\n"
          ]
        }
      ]
    },
    {
      "cell_type": "code",
      "source": [],
      "metadata": {
        "id": "oHg3sQaC5PUc"
      },
      "execution_count": null,
      "outputs": []
    },
    {
      "cell_type": "code",
      "source": [],
      "metadata": {
        "id": "uNFlM-FhIW_1"
      },
      "execution_count": null,
      "outputs": []
    }
  ]
}